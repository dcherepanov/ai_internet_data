{
 "cells": [
  {
   "attachments": {},
   "cell_type": "markdown",
   "metadata": {},
   "source": [
    "1. Развернуть у себя на компьютере/виртуальной машине/хостинге MongoDB и реализовать функцию, которая будет добавлять только новые вакансии/продукты в вашу базу.\n",
    "2. Написать функцию, которая производит поиск и выводит на экран вакансии с заработной платой больше введённой суммы (необходимо анализировать оба поля зарплаты). Для тех, кто выполнил задание с Росконтролем - напишите запрос для поиска продуктов с рейтингом не ниже введенного или качеством не ниже введенного (то есть цифра вводится одна, а запрос проверяет оба поля)."
   ]
  },
  {
   "cell_type": "code",
   "execution_count": null,
   "metadata": {},
   "outputs": [],
   "source": [
    "# ! sudo docker run -d -p 27017:27017 --name m1 mongo"
   ]
  },
  {
   "cell_type": "code",
   "execution_count": 33,
   "metadata": {},
   "outputs": [],
   "source": [
    "import pymongo\n",
    "client = pymongo.MongoClient(\"mongodb://localhost:27017/\")"
   ]
  },
  {
   "cell_type": "code",
   "execution_count": 34,
   "metadata": {},
   "outputs": [],
   "source": [
    "db = client['vacanciesdb']"
   ]
  },
  {
   "cell_type": "code",
   "execution_count": 35,
   "metadata": {},
   "outputs": [],
   "source": [
    "vacancies = db['vacancies']"
   ]
  },
  {
   "cell_type": "code",
   "execution_count": 36,
   "metadata": {},
   "outputs": [
    {
     "data": {
      "text/plain": [
       "<pymongo.results.InsertManyResult at 0x7f0094cb7730>"
      ]
     },
     "execution_count": 36,
     "metadata": {},
     "output_type": "execute_result"
    }
   ],
   "source": [
    "vacancies_list = [\n",
    "    {'name': 'SQL', 'min_salary': 100, 'max_salary':150},\n",
    "    {'name': 'Python', 'min_salary': 150, 'max_salary':200},\n",
    "    {'name': 'C', 'min_salary': 250, 'max_salary':300}\n",
    "]\n",
    "\n",
    "vacancies.insert_many(vacancies_list)"
   ]
  },
  {
   "cell_type": "code",
   "execution_count": 37,
   "metadata": {},
   "outputs": [
    {
     "name": "stdout",
     "output_type": "stream",
     "text": [
      "{'_id': ObjectId('63f7544b2cc11aff374889d4'), 'name': 'SQL', 'min_salary': 100, 'max_salary': 150}\n",
      "{'_id': ObjectId('63f7544b2cc11aff374889d5'), 'name': 'Python', 'min_salary': 150, 'max_salary': 200}\n",
      "{'_id': ObjectId('63f7544b2cc11aff374889d6'), 'name': 'C', 'min_salary': 250, 'max_salary': 300}\n"
     ]
    }
   ],
   "source": [
    "for x in vacancies.find():\n",
    "    print(x)"
   ]
  },
  {
   "cell_type": "code",
   "execution_count": 38,
   "metadata": {},
   "outputs": [],
   "source": [
    "def add_new_vacancy(column, name, min_salary, max_salary):\n",
    "    for x in column.find({},{'_id': 0, 'name': 1}):\n",
    "        if name == x['name']:\n",
    "            print('Vacancy is already in database')\n",
    "            return False\n",
    "    vacancies.insert_one({'name': name, 'min_salary': min_salary, 'max_salary': max_salary})\n",
    "    return True"
   ]
  },
  {
   "cell_type": "code",
   "execution_count": 39,
   "metadata": {},
   "outputs": [
    {
     "name": "stdout",
     "output_type": "stream",
     "text": [
      "Vacancy is already in database\n",
      "False\n",
      "True\n"
     ]
    }
   ],
   "source": [
    "print(add_new_vacancy(vacancies, 'SQL', 400, 450))\n",
    "print(add_new_vacancy(vacancies, 'RnD', 400, 450))"
   ]
  },
  {
   "cell_type": "code",
   "execution_count": 40,
   "metadata": {},
   "outputs": [
    {
     "name": "stdout",
     "output_type": "stream",
     "text": [
      "{'_id': ObjectId('63f7544b2cc11aff374889d4'), 'name': 'SQL', 'min_salary': 100, 'max_salary': 150}\n",
      "{'_id': ObjectId('63f7544b2cc11aff374889d5'), 'name': 'Python', 'min_salary': 150, 'max_salary': 200}\n",
      "{'_id': ObjectId('63f7544b2cc11aff374889d6'), 'name': 'C', 'min_salary': 250, 'max_salary': 300}\n",
      "{'_id': ObjectId('63f754502cc11aff374889d7'), 'name': 'RnD', 'min_salary': 400, 'max_salary': 450}\n"
     ]
    }
   ],
   "source": [
    "for x in vacancies.find():\n",
    "    print(x)"
   ]
  },
  {
   "cell_type": "code",
   "execution_count": 32,
   "metadata": {},
   "outputs": [],
   "source": [
    "# client.drop_database('vacanciesdb')"
   ]
  }
 ],
 "metadata": {
  "kernelspec": {
   "display_name": "Python 3",
   "language": "python",
   "name": "python3"
  },
  "language_info": {
   "codemirror_mode": {
    "name": "ipython",
    "version": 3
   },
   "file_extension": ".py",
   "mimetype": "text/x-python",
   "name": "python",
   "nbconvert_exporter": "python",
   "pygments_lexer": "ipython3",
   "version": "3.10.6"
  },
  "orig_nbformat": 4,
  "vscode": {
   "interpreter": {
    "hash": "31f2aee4e71d21fbe5cf8b01ff0e069b9275f58929596ceb00d14d90e3e16cd6"
   }
  }
 },
 "nbformat": 4,
 "nbformat_minor": 2
}
