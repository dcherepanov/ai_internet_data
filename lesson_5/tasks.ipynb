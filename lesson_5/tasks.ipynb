{
 "cells": [
  {
   "attachments": {},
   "cell_type": "markdown",
   "metadata": {},
   "source": [
    "Написать программу, которая собирает товары «В тренде» с сайта техники mvideo и складывает данные в БД. Сайт можно выбрать и свой. Главный критерий выбора: динамически загружаемые товары\n",
    "Если mvideo не доступен (что иногда бывает), можете использовать любой сайт с лентой специальных предложений, к примеру: https://www.eldorado.ru/, https://5ka.ru/, https://www.carrefoursa.com/ и т.п."
   ]
  },
  {
   "cell_type": "code",
   "execution_count": null,
   "metadata": {},
   "outputs": [],
   "source": [
    "# ! sudo docker run -d -p 27017:27017 --name m1 mongo"
   ]
  },
  {
   "cell_type": "code",
   "execution_count": 24,
   "metadata": {},
   "outputs": [],
   "source": [
    "import pymongo\n",
    "client = pymongo.MongoClient(\"mongodb://localhost:27017/\")"
   ]
  },
  {
   "cell_type": "code",
   "execution_count": 25,
   "metadata": {},
   "outputs": [],
   "source": [
    "db = client['vacanciesdb']"
   ]
  },
  {
   "cell_type": "code",
   "execution_count": 26,
   "metadata": {},
   "outputs": [],
   "source": [
    "def add_new_vacancy(column, name, url, min_salary, max_salary, currency):\n",
    "    for x in column.find({},{'_id': 0, 'name': 1}):\n",
    "        if name == x['name']:\n",
    "            return False\n",
    "    column.insert_one({'name': name, 'url': url, 'min_salary': min_salary, 'max_salary': max_salary, 'currency': currency})\n",
    "    return True"
   ]
  },
  {
   "cell_type": "code",
   "execution_count": 27,
   "metadata": {},
   "outputs": [],
   "source": [
    "import requests\n",
    "import re\n",
    "import pandas as pd\n",
    "from bs4 import BeautifulSoup as bs"
   ]
  },
  {
   "cell_type": "code",
   "execution_count": 28,
   "metadata": {},
   "outputs": [],
   "source": [
    "def parse_hh(vacancy):\n",
    "    vacancies = db[vacancy]\n",
    "    params = {\n",
    "        'text': vacancy,\n",
    "        'search_field': 'name',\n",
    "        'items_on_page': '100',\n",
    "        'page': ''\n",
    "    }\n",
    "    headers = {\n",
    "        'User-Agent': 'Mozilla/5.0 (X11; Linux x86_64) AppleWebKit/537.36 (KHTML, like Gecko) Chrome/110.0.0.0 Safari/537.36'\n",
    "    }\n",
    "    url = 'https://hh.ru/search/vacancy'\n",
    "    response = requests.get(url, params=params, headers=headers)\n",
    "    dom = bs(response.text, 'html.parser')\n",
    "    pages_data = dom.find('div', {'class': 'bloko-gap bloko-gap_top'}).findChild()\n",
    "    last_page = int(pages_data.find_all('span')[-3].getText())\n",
    "    for page in range(0, last_page):\n",
    "        params['page'] = page\n",
    "        response= requests.get(url, params=params, headers=headers)\n",
    "        if response.ok:\n",
    "            dom = bs(response.text, 'html.parser')\n",
    "            vacancy_items_data = dom.find('div', {'data-qa': 'vacancy-serp__results'})\n",
    "            if vacancy_items_data != None:\n",
    "                vacancy_items = vacancy_items_data.find_all('div', {'class': 'serp-item'})\n",
    "            for vacancy_item in vacancy_items:\n",
    "                vacancy_main_data = vacancy_item.find('a', {'class': 'serp-item__title'})\n",
    "                name = vacancy_main_data.getText()\n",
    "                url = vacancy_main_data['href']\n",
    "                vacancy_salary_data = vacancy_item.find('span', {'data-qa': 'vacancy-serp__vacancy-compensation'})\n",
    "                min_salary, max_salary, currency = None, None, None\n",
    "                if vacancy_salary_data != None:\n",
    "                    vacancy_salary = vacancy_salary_data.getText()\n",
    "                    salary_list = re.findall('[0-9]+', vacancy_salary)\n",
    "                    currency = vacancy_salary.split(' ')[-1]\n",
    "                    if len(salary_list) == 2:\n",
    "                        if 'от' in vacancy_salary:\n",
    "                            min_salary = float(''.join(salary_list))\n",
    "                        if 'до' in vacancy_salary:\n",
    "                            max_salary = float(''.join(salary_list))\n",
    "                    if len(salary_list) == 4:\n",
    "                        min_salary = float(''.join(salary_list[:2]))\n",
    "                        max_salary = float(''.join(salary_list[2:]))\n",
    "                add_new_vacancy(vacancies, name, url, min_salary, max_salary, currency)"
   ]
  },
  {
   "cell_type": "code",
   "execution_count": 29,
   "metadata": {},
   "outputs": [],
   "source": [
    "vacancy = 'python'\n",
    "vacancy_dataframe = parse_hh(vacancy)"
   ]
  },
  {
   "cell_type": "code",
   "execution_count": 30,
   "metadata": {},
   "outputs": [
    {
     "name": "stdout",
     "output_type": "stream",
     "text": [
      "{'_id': ObjectId('63f9fe0eb1fc220c66fbc5c4'), 'name': 'Ведущий инженер по тестированию (python)', 'url': 'https://novosibirsk.hh.ru/vacancy/73199414?from=vacancy_search_list&query=python', 'min_salary': None, 'max_salary': None, 'currency': None}\n",
      "{'_id': ObjectId('63f9fe0eb1fc220c66fbc5c5'), 'name': 'Разработчик Python', 'url': 'https://novosibirsk.hh.ru/vacancy/77091466?from=vacancy_search_list&query=python', 'min_salary': 200000.0, 'max_salary': 250000.0, 'currency': 'руб.'}\n",
      "{'_id': ObjectId('63f9fe0eb1fc220c66fbc5c6'), 'name': 'Программист Python Junior', 'url': 'https://novosibirsk.hh.ru/vacancy/77146976?from=vacancy_search_list&query=python', 'min_salary': None, 'max_salary': None, 'currency': None}\n",
      "{'_id': ObjectId('63f9fe0eb1fc220c66fbc5c7'), 'name': 'Программист Python', 'url': 'https://novosibirsk.hh.ru/vacancy/76608111?from=vacancy_search_list&query=python', 'min_salary': 45000.0, 'max_salary': None, 'currency': 'руб.'}\n",
      "{'_id': ObjectId('63f9fe0eb1fc220c66fbc5c8'), 'name': 'Python-разработчик (Django, DRF)', 'url': 'https://novosibirsk.hh.ru/vacancy/70705466?from=vacancy_search_list&query=python', 'min_salary': 60000.0, 'max_salary': 220000.0, 'currency': 'руб.'}\n",
      "{'_id': ObjectId('63f9fe0eb1fc220c66fbc5c9'), 'name': 'Junior Python developer', 'url': 'https://novosibirsk.hh.ru/vacancy/77067279?from=vacancy_search_list&query=python', 'min_salary': 50000.0, 'max_salary': 90000.0, 'currency': 'руб.'}\n",
      "{'_id': ObjectId('63f9fe0eb1fc220c66fbc5ca'), 'name': 'Разработчик C# / Python', 'url': 'https://novosibirsk.hh.ru/vacancy/71147348?from=vacancy_search_list&query=python', 'min_salary': 300000.0, 'max_salary': 500000.0, 'currency': 'руб.'}\n",
      "{'_id': ObjectId('63f9fe0eb1fc220c66fbc5cb'), 'name': 'Python Backend Developer / WEB - разработчик', 'url': 'https://novosibirsk.hh.ru/vacancy/72216524?from=vacancy_search_list&query=python', 'min_salary': 300000.0, 'max_salary': 450000.0, 'currency': 'руб.'}\n",
      "{'_id': ObjectId('63f9fe0eb1fc220c66fbc5cc'), 'name': 'Junior Python Backend Developer - разработчик Python', 'url': 'https://novosibirsk.hh.ru/vacancy/76811711?from=vacancy_search_list&query=python', 'min_salary': 80000.0, 'max_salary': 120000.0, 'currency': 'руб.'}\n",
      "{'_id': ObjectId('63f9fe0eb1fc220c66fbc5cd'), 'name': 'Ведущий Python разработчик (удаленка)', 'url': 'https://novosibirsk.hh.ru/vacancy/76832091?from=vacancy_search_list&query=python', 'min_salary': None, 'max_salary': 8000.0, 'currency': 'USD'}\n"
     ]
    }
   ],
   "source": [
    "for x in db[vacancy].find()[:10]:\n",
    "    print(x)"
   ]
  },
  {
   "cell_type": "code",
   "execution_count": 22,
   "metadata": {},
   "outputs": [],
   "source": [
    "# client.drop_database('vacanciesdb')"
   ]
  }
 ],
 "metadata": {
  "kernelspec": {
   "display_name": "Python 3",
   "language": "python",
   "name": "python3"
  },
  "language_info": {
   "codemirror_mode": {
    "name": "ipython",
    "version": 3
   },
   "file_extension": ".py",
   "mimetype": "text/x-python",
   "name": "python",
   "nbconvert_exporter": "python",
   "pygments_lexer": "ipython3",
   "version": "3.10.6"
  },
  "orig_nbformat": 4,
  "vscode": {
   "interpreter": {
    "hash": "31f2aee4e71d21fbe5cf8b01ff0e069b9275f58929596ceb00d14d90e3e16cd6"
   }
  }
 },
 "nbformat": 4,
 "nbformat_minor": 2
}
