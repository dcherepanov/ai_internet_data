{
 "cells": [
  {
   "attachments": {},
   "cell_type": "markdown",
   "metadata": {},
   "source": [
    "1. Написать приложение или функцию, которые собирают основные новости с сайта на выбор lenta.ru, yandex-новости. Для парсинга использовать XPath.\n",
    "\n",
    "Структура данных в виде словаря должна содержать:\n",
    "- название источника;\n",
    "- наименование новости;\n",
    "- ссылку на новость;\n",
    "- дата публикации.\n"
   ]
  },
  {
   "cell_type": "code",
   "execution_count": 100,
   "metadata": {},
   "outputs": [
    {
     "data": {
      "text/plain": [
       "{1: {'title': 'Москвичам рассказали о погоде на День всех влюбленных',\n",
       "  'url': 'https://moslenta.ru/news/city/pogoda-den-vsekh-vlyublennykh-12-02-2023.htm',\n",
       "  'source': 'moslenta.ru',\n",
       "  'date': '2023.02.12 16:18'},\n",
       " 2: {'title': 'В Башкирии напали на семью начальника Управления госэкспертизы',\n",
       "  'url': 'https://lenta.ru/news/2023/02/12/napad/',\n",
       "  'source': 'lenta.ru',\n",
       "  'date': '2023.02.12 16:18'},\n",
       " 3: {'title': 'На Украине заявили о нехватке трансформаторов стоимостью 10 миллионов долларов',\n",
       "  'url': 'https://lenta.ru/news/2023/02/12/transform/',\n",
       "  'source': 'lenta.ru',\n",
       "  'date': '2023.02.12 16:06'},\n",
       " 4: {'title': 'Валиева сравнила Загитову и Медведеву',\n",
       "  'url': 'https://lenta.ru/news/2023/02/12/valieva/',\n",
       "  'source': 'lenta.ru',\n",
       "  'date': '2023.02.12 16:02'},\n",
       " 5: {'title': 'СМИ сообщили о предстоящей встрече Путина с лидерами партий парламента',\n",
       "  'url': 'https://lenta.ru/news/2023/02/12/dcnhtxf/',\n",
       "  'source': 'lenta.ru',\n",
       "  'date': '2023.02.12 15:55'},\n",
       " 6: {'title': 'В российском регионе задержали мужчину за поджог военкомата',\n",
       "  'url': 'https://lenta.ru/news/2023/02/12/voenkomamur/',\n",
       "  'source': 'lenta.ru',\n",
       "  'date': '2023.02.12 15:49'},\n",
       " 7: {'title': 'Минобороны отчиталось о 17 сбитых украинских беспилотниках',\n",
       "  'url': 'https://lenta.ru/news/2023/02/12/bsplt/',\n",
       "  'source': 'lenta.ru',\n",
       "  'date': '2023.02.12 15:46'},\n",
       " 8: {'title': 'Фигура 43-летней Виктории Бони в купальнике восхитила пользователей сети',\n",
       "  'url': 'https://moslenta.ru/news/lyudi/figura-boni-12-02-2023.htm',\n",
       "  'source': 'moslenta.ru',\n",
       "  'date': '2023.02.12 15:45'},\n",
       " 9: {'title': 'Жилой барак загорелся в российском городе',\n",
       "  'url': 'https://lenta.ru/news/2023/02/12/baraksochi/',\n",
       "  'source': 'lenta.ru',\n",
       "  'date': '2023.02.12 15:34'},\n",
       " 10: {'title': 'Лавров высказался о признании США причастности ко взрывам на «Северных потоках»',\n",
       "  'url': 'https://lenta.ru/news/2023/02/12/lavrov/',\n",
       "  'source': 'lenta.ru',\n",
       "  'date': '2023.02.12 15:29'},\n",
       " 11: {'title': '«Роскосмос» показал снимок тектонического разлома в Турции',\n",
       "  'url': 'https://lenta.ru/news/2023/02/12/tectonicheskiy/',\n",
       "  'source': 'lenta.ru',\n",
       "  'date': '2023.02.12 15:25'},\n",
       " 12: {'title': 'Доктор Мясников раскрыл всю правду о головокружениях',\n",
       "  'url': 'https://moslenta.ru/news/lyudi/golovokruzheniya-12-02-2023.htm/',\n",
       "  'source': 'moslenta.ru',\n",
       "  'date': '2023.02.12 15:24'},\n",
       " 13: {'title': 'Российские войска уничтожили украинский ЗРК «Оса-АКМ» в ДНР',\n",
       "  'url': 'https://lenta.ru/news/2023/02/12/zkrr/',\n",
       "  'source': 'lenta.ru',\n",
       "  'date': '2023.02.12 15:18'},\n",
       " 14: {'title': 'Глава МОК раскритиковал вмешательство политиков в вопросы допуска россиян к ОИ',\n",
       "  'url': 'https://lenta.ru/news/2023/02/12/bach/',\n",
       "  'source': 'lenta.ru',\n",
       "  'date': '2023.02.12 15:18'},\n",
       " 15: {'title': 'Болсонару заявил о планах вернуться в Бразилию',\n",
       "  'url': 'https://lenta.ru/news/2023/02/12/bolsonaru_back/',\n",
       "  'source': 'lenta.ru',\n",
       "  'date': '2023.02.12 15:16'},\n",
       " 16: {'title': 'Российские военные уничтожили украинские гаубицы «Гвоздика» и «Акация»',\n",
       "  'url': 'https://lenta.ru/news/2023/02/12/s_vodka_mo/',\n",
       "  'source': 'lenta.ru',\n",
       "  'date': '2023.02.12 15:08'},\n",
       " 17: {'title': 'Минобороны заявило о поражении 50 бойцов ВСУ на южнодонецком направлении',\n",
       "  'url': 'https://lenta.ru/news/2023/02/12/brif/',\n",
       "  'source': 'lenta.ru',\n",
       "  'date': '2023.02.12 15:04'},\n",
       " 18: {'title': 'Покупатель не смог снять огромные резиновые ботинки и стал мемом в сети',\n",
       "  'url': 'https://lenta.ru/news/2023/02/12/botinki/',\n",
       "  'source': 'lenta.ru',\n",
       "  'date': '2023.02.12 15:02'},\n",
       " 19: {'title': 'Войска России ликвидировали до 80 бойцов ВСУ на купянском направлении',\n",
       "  'url': 'https://lenta.ru/news/2023/02/12/vbyj/',\n",
       "  'source': 'lenta.ru',\n",
       "  'date': '2023.02.12 15:00'},\n",
       " 20: {'title': 'Российские войска поразили цеха сборки бронетехники ВСУ в Харькове',\n",
       "  'url': 'https://lenta.ru/news/2023/02/12/bronetank/',\n",
       "  'source': 'lenta.ru',\n",
       "  'date': '2023.02.12 15:00'}}"
      ]
     },
     "execution_count": 100,
     "metadata": {},
     "output_type": "execute_result"
    }
   ],
   "source": [
    "import requests\n",
    "import re\n",
    "from lxml import html\n",
    "\n",
    "url = r'https://lenta.ru/parts/news/'\n",
    "headers = {\n",
    "    'User-Agent': 'Mozilla/5.0 (X11; Linux x86_64) AppleWebKit/537.36 (KHTML, like Gecko) Chrome/110.0.0.0 Safari/537.36'\n",
    "}\n",
    "response = requests.get(url)\n",
    "top_news = {}\n",
    "dom = html.fromstring(response.text)\n",
    "news = dom.xpath('//ul[starts-with(@class, \"parts-page\")]/li[starts-with(@class, \"parts-page\")]')[:-1]\n",
    "for i, new in enumerate(news):\n",
    "    href = new.xpath('.//a/@href')[0]\n",
    "    title = new.xpath('.//a/h3/text()')[0]\n",
    "    time = new.xpath('.//a/div/time/text()')[0]\n",
    "    date_match = re.search(r'(\\d+/\\d+/\\d+)', href)\n",
    "    if date_match != None:\n",
    "        date = date_match.group(1)\n",
    "    else:\n",
    "        date_match = re.search(r'(\\d+-\\d+-\\d+)', href)\n",
    "        date = '/'.join(date_match.group(1).split('-')[::-1])\n",
    "    date = '.'.join(date.split('/'))\n",
    "    if href.startswith('/'):\n",
    "        href = r'https://lenta.ru' + href\n",
    "    top_news[i+1] = {'title': title, 'url': href, 'source': href[8:].split('/')[0], 'date': f'{date} {time}'}\n",
    "top_news"
   ]
  },
  {
   "cell_type": "code",
   "execution_count": null,
   "metadata": {},
   "outputs": [],
   "source": []
  }
 ],
 "metadata": {
  "kernelspec": {
   "display_name": "Python 3",
   "language": "python",
   "name": "python3"
  },
  "language_info": {
   "codemirror_mode": {
    "name": "ipython",
    "version": 3
   },
   "file_extension": ".py",
   "mimetype": "text/x-python",
   "name": "python",
   "nbconvert_exporter": "python",
   "pygments_lexer": "ipython3",
   "version": "3.10.6"
  },
  "orig_nbformat": 4,
  "vscode": {
   "interpreter": {
    "hash": "916dbcbb3f70747c44a77c7bcd40155683ae19c65e1c03b4aa3499c5328201f1"
   }
  }
 },
 "nbformat": 4,
 "nbformat_minor": 2
}
